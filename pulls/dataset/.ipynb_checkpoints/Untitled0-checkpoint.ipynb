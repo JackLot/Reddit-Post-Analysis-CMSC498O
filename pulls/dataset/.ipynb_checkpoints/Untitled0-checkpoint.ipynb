{
 "metadata": {
  "name": ""
 },
 "nbformat": 3,
 "nbformat_minor": 0,
 "worksheets": [
  {
   "cells": [
    {
     "cell_type": "code",
     "collapsed": false,
     "input": [
      "import sys\n",
      "import pandas as pd\n",
      "import numpy as np\n",
      "import matplotlib.pyplot as plt\n"
     ],
     "language": "python",
     "metadata": {},
     "outputs": [],
     "prompt_number": 1
    },
    {
     "cell_type": "code",
     "collapsed": false,
     "input": [
      "data = []\n",
      "data.append(pd.read_csv('redditFP-2014-11-11_21:05:42.csv'))\n",
      "data.append(pd.read_csv('redditFP-2014-11-12_21:20:17.csv'))\n",
      "data.append(pd.read_csv('redditFP-2014-11-13_21:00:01.csv'))\n",
      "data.append(pd.read_csv('redditFP-2014-11-14_11:00:02.csv'))\n",
      "data.append(pd.read_csv('redditFP-2014-11-15_15:00:01.csv'))\n",
      "data.append(pd.read_csv('redditFP-2014-11-16_15:00:01.csv'))\n",
      "data.append(pd.read_csv('redditFP-2014-11-17_23:22:02.csv'))\n",
      "data.append(pd.read_csv('redditFP-2014-11-18_23:03:27.csv'))"
     ],
     "language": "python",
     "metadata": {},
     "outputs": [],
     "prompt_number": 34
    },
    {
     "cell_type": "code",
     "collapsed": false,
     "input": [
      "df = pd.concat(data, ignore_index=True)\n",
      "df.describe()"
     ],
     "language": "python",
     "metadata": {},
     "outputs": [
      {
       "html": [
        "<div style=\"max-height:1000px;max-width:1500px;overflow:auto;\">\n",
        "<table border=\"1\" class=\"dataframe\">\n",
        "  <thead>\n",
        "    <tr style=\"text-align: right;\">\n",
        "      <th></th>\n",
        "      <th>rank</th>\n",
        "      <th>score</th>\n",
        "    </tr>\n",
        "  </thead>\n",
        "  <tbody>\n",
        "    <tr>\n",
        "      <th>count</th>\n",
        "      <td> 800.000000</td>\n",
        "      <td>  784.000000</td>\n",
        "    </tr>\n",
        "    <tr>\n",
        "      <th>mean</th>\n",
        "      <td>  50.500000</td>\n",
        "      <td> 1987.940051</td>\n",
        "    </tr>\n",
        "    <tr>\n",
        "      <th>std</th>\n",
        "      <td>  28.884128</td>\n",
        "      <td> 1422.597505</td>\n",
        "    </tr>\n",
        "    <tr>\n",
        "      <th>min</th>\n",
        "      <td>   1.000000</td>\n",
        "      <td>    7.000000</td>\n",
        "    </tr>\n",
        "    <tr>\n",
        "      <th>25%</th>\n",
        "      <td>  25.750000</td>\n",
        "      <td>  594.750000</td>\n",
        "    </tr>\n",
        "    <tr>\n",
        "      <th>50%</th>\n",
        "      <td>  50.500000</td>\n",
        "      <td> 1874.000000</td>\n",
        "    </tr>\n",
        "    <tr>\n",
        "      <th>75%</th>\n",
        "      <td>  75.250000</td>\n",
        "      <td> 3235.500000</td>\n",
        "    </tr>\n",
        "    <tr>\n",
        "      <th>max</th>\n",
        "      <td> 100.000000</td>\n",
        "      <td> 5088.000000</td>\n",
        "    </tr>\n",
        "  </tbody>\n",
        "</table>\n",
        "<p>8 rows \u00d7 2 columns</p>\n",
        "</div>"
       ],
       "metadata": {},
       "output_type": "pyout",
       "prompt_number": 54,
       "text": [
        "             rank        score\n",
        "count  800.000000   784.000000\n",
        "mean    50.500000  1987.940051\n",
        "std     28.884128  1422.597505\n",
        "min      1.000000     7.000000\n",
        "25%     25.750000   594.750000\n",
        "50%     50.500000  1874.000000\n",
        "75%     75.250000  3235.500000\n",
        "max    100.000000  5088.000000\n",
        "\n",
        "[8 rows x 2 columns]"
       ]
      }
     ],
     "prompt_number": 54
    },
    {
     "cell_type": "code",
     "collapsed": false,
     "input": [
      "fourThou = df[df['score'] > 4000]\n",
      "fourThou = fourThou[fourThou['score'] < 5000]\n",
      "fourThou[fourThou['score'] > 5000]"
     ],
     "language": "python",
     "metadata": {},
     "outputs": [
      {
       "html": [
        "<div style=\"max-height:1000px;max-width:1500px;overflow:auto;\">\n",
        "<table border=\"1\" class=\"dataframe\">\n",
        "  <tbody>\n",
        "    <tr>\n",
        "      <td>Int64Index([], dtype='int64')</td>\n",
        "      <td>Empty DataFrame</td>\n",
        "    </tr>\n",
        "  </tbody>\n",
        "</table>\n",
        "<p>0 rows \u00d7 10 columns</p>\n",
        "</div>"
       ],
       "metadata": {},
       "output_type": "pyout",
       "prompt_number": 73,
       "text": [
        "Empty DataFrame\n",
        "Columns: [domain, post_time, title, rank, subreddit, score, link, comments, submitter, timestamp]\n",
        "Index: []\n",
        "\n",
        "[0 rows x 10 columns]"
       ]
      }
     ],
     "prompt_number": 73
    },
    {
     "cell_type": "code",
     "collapsed": false,
     "input": [
      "data.columns"
     ],
     "language": "python",
     "metadata": {},
     "outputs": [
      {
       "metadata": {},
       "output_type": "pyout",
       "prompt_number": 30,
       "text": [
        "Index([u'domain', u'post_time', u'title', u'rank', u'subreddit', u'score', u'link', u'comments', u'submitter', u'timestamp'], dtype='object')"
       ]
      }
     ],
     "prompt_number": 30
    },
    {
     "cell_type": "code",
     "collapsed": false,
     "input": [
      "data['domain']"
     ],
     "language": "python",
     "metadata": {},
     "outputs": [
      {
       "metadata": {},
       "output_type": "pyout",
       "prompt_number": 22,
       "text": [
        "0                        i.imgur.com\n",
        "1         purolatorinternational.com\n",
        "2                          imgur.com\n",
        "3                          imgur.com\n",
        "4                   giant.gfycat.com\n",
        "5                          self.IAmA\n",
        "6                        youtube.com\n",
        "7                        i.imgur.com\n",
        "8     spiritofthething.wordpress.com\n",
        "9                          imgur.com\n",
        "10               self.Showerthoughts\n",
        "11                         imgur.com\n",
        "12                    self.AskReddit\n",
        "13                       i.imgur.com\n",
        "14                news.softpedia.com\n",
        "...\n",
        "85             i.imgur.com\n",
        "86             i.imgur.com\n",
        "87             youtube.com\n",
        "88        roadandtrack.com\n",
        "89               imgur.com\n",
        "90             youtube.com\n",
        "91    poorrichardsnews.com\n",
        "92             i.imgur.com\n",
        "93             i.imgur.com\n",
        "94     self.WritingPrompts\n",
        "95         self.askscience\n",
        "96             i.imgur.com\n",
        "97               imgur.com\n",
        "98             i.imgur.com\n",
        "99             youtube.com\n",
        "Name: domain, Length: 100, dtype: object"
       ]
      }
     ],
     "prompt_number": 22
    },
    {
     "cell_type": "code",
     "collapsed": false,
     "input": [],
     "language": "python",
     "metadata": {},
     "outputs": []
    }
   ],
   "metadata": {}
  }
 ]
}